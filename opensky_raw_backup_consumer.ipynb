{
 "cells": [
  {
   "cell_type": "raw",
   "metadata": {},
   "source": [
    "kafka-topics --zookeeper localhost:2181/kafka --list\n",
    "\n",
    "kafka-console-consumer \\\n",
    "--bootstrap-server localhost:9092 \\\n",
    "--topic raw_json\n",
    "\n"
   ]
  },
  {
   "cell_type": "code",
   "execution_count": null,
   "metadata": {},
   "outputs": [
    {
     "name": "stdout",
     "output_type": "stream",
     "text": [
      "100000\n",
      "900000\n",
      "900000\n"
     ]
    }
   ],
   "source": [
    "from kafka import KafkaConsumer\n",
    "\n",
    "# # Topics/Brokers\n",
    "topic_real_time_states = 'real-time-states'\n",
    "topic_raw_json = 'raw_json'\n",
    "topic_flat_json = 'flat_json'\n",
    "topic_brokers = ['localhost:9092']\n",
    "\n",
    "consumer = KafkaConsumer(topic_raw_json)\n",
    "\n",
    "for message in consumer:\n",
    "    print(len(message.value))"
   ]
  },
  {
   "cell_type": "code",
   "execution_count": null,
   "metadata": {},
   "outputs": [],
   "source": []
  }
 ],
 "metadata": {
  "kernelspec": {
   "display_name": "Python 3",
   "language": "python",
   "name": "python3"
  },
  "language_info": {
   "codemirror_mode": {
    "name": "ipython",
    "version": 3
   },
   "file_extension": ".py",
   "mimetype": "text/x-python",
   "name": "python",
   "nbconvert_exporter": "python",
   "pygments_lexer": "ipython3",
   "version": "3.6.6"
  }
 },
 "nbformat": 4,
 "nbformat_minor": 2
}
