{
 "cells": [
  {
   "cell_type": "code",
   "execution_count": null,
   "metadata": {},
   "outputs": [],
   "source": [
    "from opensky_api import OpenSkyApi\n",
    "from kafka import KafkaProducer\n",
    "import json\n",
    "from time import sleep\n",
    "import pyarrow as pa\n",
    "import os\n",
    "from datetime import datetime\n",
    "import shutil\n",
    "    \n",
    "# # Topics/Brokers\n",
    "topic_real_time_states = 'real-time-states'\n",
    "topic_raw_json = 'raw_json'\n",
    "topic_flat_json = 'flat_json'\n",
    "# topic_test = 'topic_test'\n",
    "brokers = ['localhost:9092']\n"
   ]
  },
  {
   "cell_type": "code",
   "execution_count": null,
   "metadata": {},
   "outputs": [],
   "source": [
    "\n",
    "\n",
    "producer = KafkaProducer(bootstrap_servers=brokers, max_request_size = 4299162)\n",
    "\n",
    "p = [{'time': 1576513660, 'icao24': 'ac96b8', 'callsign': 'AAL115', 'last_contact': 1576513660, 'longitude': -84.5568, 'latitude': 33.7335, 'baro_altitude': 1996.44, 'on_ground': 0, 'velocity': 109.06, 'geo_altitude': 2080.26, 'squawk': '5671', 'position_source': 0}, {'time': 2576513660, 'icao24': 'ac96b8', 'callsign': 'AAL115', 'last_contact': 1576513660, 'longitude': -84.5568, 'latitude': 33.7335, 'baro_altitude': 1996.44, 'on_ground': 0, 'velocity': 109.06, 'geo_altitude': 1000.26, 'squawk': '5672', 'position_source': 0}]\n",
    "p1 = \"[{'time': 1576513660, 'icao24': 'ac96b8', 'callsign': 'AAL115', 'last_contact': 1576513660, 'longitude': -84.5568, 'latitude': 33.7335, 'baro_altitude': 1996.44, 'on_ground': 0, 'velocity': 109.06, 'geo_altitude': 2080.26, 'squawk': '5671', 'position_source': 0},{'time': 1576513660, 'icao24': 'ac96c8', 'callsign': 'AAL116', 'last_contact': 1576513660, 'longitude': -84.5568, 'latitude': 33.7335, 'baro_altitude': 1996.44, 'on_ground': 0, 'velocity': 109.06, 'geo_altitude': 2080.26, 'squawk': '5671', 'position_source': 0}]\" \n",
    "j = [{'time': 1576513660, 'icao24': 'ac96b8', 'callsign': 'AAL115', 'last_contact': 1576513660, 'longitude': -84.5568, 'latitude': 33.7335, 'baro_altitude': 1996.44, 'on_ground': 0, 'velocity': 109.06, 'geo_altitude': 2080.26, 'squawk': '5671', 'position_source': 0}]\n",
    "j1 = {'time': 1576513660, 'icao24': 'ac96b8', 'callsign': 'AAL115', 'last_contact': 1576513660, 'longitude': -84.5568, 'latitude': 33.7335, 'baro_altitude': 1996.44, 'on_ground': 0, 'velocity': 109.06, 'geo_altitude': 2080.26, 'squawk': '5671', 'position_source': 0}\n",
    "hm = '{[{\"time\": 1576513660, \"icao24\": \"ac96b8\", \"callsign\": \"AAL115\", \"last_contact\": 1576513660, \"longitude\": -84.5568, \"latitude\": 33.7335, \"baro_altitude\": 1996.44, \"on_ground\": 0, \"velocity\": 109.06, \"geo_altitude\": 2080.26, \"squawk\": \"5671\", \"position_source\": 0}, {\"time\": 2576513660, \"icao24\": \"ac96b8\", \"callsign\": \"AAL115\", \"last_contact\": 1576513660, \"longitude\": -84.5568, \"latitude\": 33.7335, \"baro_altitude\": 1996.44, \"on_ground\": 0, \"velocity\": 109.06, \"geo_altitude\": 1000.26, \"squawk\": \"5672\", \"position_source\": 0}]}'\n",
    "s = '[{\"time\" : 157651},{\"time\" : 257651}]'\n",
    "\n",
    "\n",
    "msg = json.dumps(p).encode('utf-8')\n",
    "# msg = s.encode('utf-8')\n",
    "\n",
    "while True:\n",
    "    send_result = producer.send(topic_test, value = msg)\n",
    "    print(send_result.succeeded)\n",
    "    sleep(10)"
   ]
  },
  {
   "cell_type": "code",
   "execution_count": null,
   "metadata": {},
   "outputs": [],
   "source": [
    "#Delete topic_test\n",
    "!kafka-topics --zookeeper localhost:2181/kafka --delete --topic topic_test\n",
    "    \n",
    "!kafka-topics --zookeeper localhost:2181/kafka --list\n",
    "    "
   ]
  }
 ],
 "metadata": {
  "kernelspec": {
   "display_name": "Python 3",
   "language": "python",
   "name": "python3"
  },
  "language_info": {
   "codemirror_mode": {
    "name": "ipython",
    "version": 3
   },
   "file_extension": ".py",
   "mimetype": "text/x-python",
   "name": "python",
   "nbconvert_exporter": "python",
   "pygments_lexer": "ipython3",
   "version": "3.6.6"
  }
 },
 "nbformat": 4,
 "nbformat_minor": 2
}
