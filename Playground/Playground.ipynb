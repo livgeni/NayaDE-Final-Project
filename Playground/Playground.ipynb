{
 "cells": [
  {
   "cell_type": "code",
   "execution_count": 4,
   "metadata": {},
   "outputs": [],
   "source": [
    "from pyspark.sql import SparkSession\n",
    "import json\n",
    "\n",
    "spark = SparkSession \\\n",
    "    .builder \\\n",
    "    .appName(\"StructuredRealTimeState\") \\\n",
    "    .getOrCreate()\n",
    "\n",
    "import os\n",
    "\n",
    "os.environ['PYSPARK_SUBMIT_ARGS'] = '--packages org.apache.spark:spark-sql-kafka-0-10_2.11:2.4.1 pyspark-shell'"
   ]
  },
  {
   "cell_type": "code",
   "execution_count": 39,
   "metadata": {},
   "outputs": [
    {
     "name": "stdout",
     "output_type": "stream",
     "text": [
      "+--------------------+\n",
      "|                json|\n",
      "+--------------------+\n",
      "|[{\"time\" : 123456...|\n",
      "|[{\"time\" : 33333,...|\n",
      "|[{\"time\" : 654332...|\n",
      "+--------------------+\n",
      "\n"
     ]
    },
    {
     "data": {
      "text/plain": [
       "[Row(json='[{\"time\" : 123456, \"name\" : \"n\"}]'),\n",
       " Row(json='[{\"time\" : 33333, \"name\" : \"m\"}]'),\n",
       " Row(json='[{\"time\" : 65433212, \"name\" : \"e\"}, {\"time\" : 43221, \"name\" : \"j\"}]')]"
      ]
     },
     "execution_count": 39,
     "metadata": {},
     "output_type": "execute_result"
    }
   ],
   "source": [
    "from pyspark.sql import Row\n",
    "from pyspark.sql import functions as F\n",
    "from pyspark.sql import types as T\n",
    "\n",
    "jstr1 = '[{\"time\" : 123456, \"name\" : \"n\"}]'\n",
    "jstr2 = '[{\"time\" : 33333, \"name\" : \"m\"}]'\n",
    "jstr3 = '[{\"time\" : 65433212, \"name\" : \"e\"}, {\"time\" : 43221, \"name\" : \"j\"}]'\n",
    "df = spark.createDataFrame([Row(json=jstr1),Row(json=jstr2),Row(json=jstr3)])\n",
    "# df = spark.createDataFrame([Row(json='[{\"time\" : 157651},{\"time\" : 257651}]')])\n",
    "# df = spark.createDataFrame([Row(json='[{\"time\" : 65433212}, {\"time\" : 43221}]')])\n",
    "df.select(F.col(\"json\").cast(\"string\")).show()\n",
    "df.collect()"
   ]
  },
  {
   "cell_type": "code",
   "execution_count": 40,
   "metadata": {},
   "outputs": [
    {
     "data": {
      "text/plain": [
       "[Row(value=[Row(time=123456, name='n')]),\n",
       " Row(value=[Row(time=33333, name='m')]),\n",
       " Row(value=[Row(time=65433212, name='e'), Row(time=43221, name='j')])]"
      ]
     },
     "execution_count": 40,
     "metadata": {},
     "output_type": "execute_result"
    }
   ],
   "source": [
    "schema = T.ArrayType(T.StructType()\\\n",
    "    .add(\"time\", T.TimestampType())\\\n",
    "    .add(\"name\", T.StringType()))\n",
    "# ddf = df.select(F.from_json(F.col(\"json\").cast(\"string\"), schema).alias(\"json\"))\n",
    "ddf = df.select(F.from_json(F.col(\"json\").cast(\"string\"), schema).alias(\"value\"))\n",
    "# ddf = df.select(F.from_json(F.col(\"json\"), F.schema_of_json('[{\"time\" : 65433212}, {\"time\" : 43221}]')).alias(\"json\"))\n",
    "ddf.collect()"
   ]
  },
  {
   "cell_type": "code",
   "execution_count": null,
   "metadata": {},
   "outputs": [],
   "source": []
  },
  {
   "cell_type": "code",
   "execution_count": 41,
   "metadata": {},
   "outputs": [
    {
     "data": {
      "text/plain": [
       "[Row(new_val=Row(time=123456, name='n')),\n",
       " Row(new_val=Row(time=33333, name='m')),\n",
       " Row(new_val=Row(time=65433212, name='e')),\n",
       " Row(new_val=Row(time=43221, name='j'))]"
      ]
     },
     "execution_count": 41,
     "metadata": {},
     "output_type": "execute_result"
    }
   ],
   "source": [
    "edf = ddf.select(F.explode(\"value\").alias(\"new_val\"))\n",
    "edf.collect()\n",
    "# def flatten(row): id_, items = row; return ((id_, item) for item in items)\n",
    "# ddf.select(F.explode(F.col(\"value\")).alias(\"new_val\")).rdd.flatMap(flatten).toDF([\"time\"])"
   ]
  },
  {
   "cell_type": "code",
   "execution_count": 43,
   "metadata": {},
   "outputs": [
    {
     "name": "stdout",
     "output_type": "stream",
     "text": [
      "+--------+----+\n",
      "|    time|name|\n",
      "+--------+----+\n",
      "|  123456|   n|\n",
      "|   33333|   m|\n",
      "|65433212|   e|\n",
      "|   43221|   j|\n",
      "+--------+----+\n",
      "\n"
     ]
    }
   ],
   "source": [
    "edf.select(\"new_val.*\").show()"
   ]
  },
  {
   "cell_type": "code",
   "execution_count": 55,
   "metadata": {},
   "outputs": [],
   "source": [
    "from datetime import datetime\n",
    "import time\n",
    "\n",
    "d = datetime.now().timestamp()"
   ]
  },
  {
   "cell_type": "code",
   "execution_count": 62,
   "metadata": {},
   "outputs": [
    {
     "data": {
      "text/plain": [
       "int"
      ]
     },
     "execution_count": 62,
     "metadata": {},
     "output_type": "execute_result"
    }
   ],
   "source": [
    "d = 15770499787\n",
    "type(d)"
   ]
  },
  {
   "cell_type": "code",
   "execution_count": 63,
   "metadata": {},
   "outputs": [
    {
     "data": {
      "text/plain": [
       "datetime.datetime(2469, 9, 30, 0, 23, 7)"
      ]
     },
     "execution_count": 63,
     "metadata": {},
     "output_type": "execute_result"
    }
   ],
   "source": [
    "datetime.fromtimestamp(d)"
   ]
  },
  {
   "cell_type": "code",
   "execution_count": 67,
   "metadata": {},
   "outputs": [
    {
     "ename": "TypeError",
     "evalue": "descriptor 'bit_length' of 'int' object needs an argument",
     "output_type": "error",
     "traceback": [
      "\u001b[0;31m---------------------------------------------------------------------------\u001b[0m",
      "\u001b[0;31mTypeError\u001b[0m                                 Traceback (most recent call last)",
      "\u001b[0;32m<ipython-input-67-e5b9b19d1ccf>\u001b[0m in \u001b[0;36m<module>\u001b[0;34m\u001b[0m\n\u001b[0;32m----> 1\u001b[0;31m \u001b[0mint\u001b[0m\u001b[0;34m.\u001b[0m\u001b[0mbit_length\u001b[0m\u001b[0;34m(\u001b[0m\u001b[0;34m)\u001b[0m\u001b[0;34m\u001b[0m\u001b[0m\n\u001b[0m",
      "\u001b[0;31mTypeError\u001b[0m: descriptor 'bit_length' of 'int' object needs an argument"
     ]
    }
   ],
   "source": []
  },
  {
   "cell_type": "code",
   "execution_count": null,
   "metadata": {},
   "outputs": [],
   "source": []
  }
 ],
 "metadata": {
  "kernelspec": {
   "display_name": "Python 3",
   "language": "python",
   "name": "python3"
  },
  "language_info": {
   "codemirror_mode": {
    "name": "ipython",
    "version": 3
   },
   "file_extension": ".py",
   "mimetype": "text/x-python",
   "name": "python",
   "nbconvert_exporter": "python",
   "pygments_lexer": "ipython3",
   "version": "3.6.6"
  }
 },
 "nbformat": 4,
 "nbformat_minor": 2
}
