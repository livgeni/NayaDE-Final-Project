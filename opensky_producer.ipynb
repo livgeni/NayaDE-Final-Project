{
 "cells": [
  {
   "cell_type": "code",
   "execution_count": 3,
   "metadata": {},
   "outputs": [],
   "source": [
    "from opensky_api import OpenSkyApi\n",
    "from kafka import KafkaProducer\n",
    "import json\n",
    "from time import sleep\n",
    "    \n",
    "# # Topics/Brokers\n",
    "real_time_states = 'real-time-states'\n",
    "raw_json = 'raw_json'\n",
    "flat_json = 'flat_json'\n",
    "brokers = ['localhost:9092']\n",
    "\n",
    "def open_sky_generator(api):\n",
    "    while True:\n",
    "        yield api.get_states()\n",
    "        sleep(10)\n"
   ]
  },
  {
   "cell_type": "code",
   "execution_count": 4,
   "metadata": {},
   "outputs": [],
   "source": [
    "producer = KafkaProducer(bootstrap_servers=brokers)"
   ]
  },
  {
   "cell_type": "code",
   "execution_count": null,
   "metadata": {},
   "outputs": [],
   "source": [
    "def opensky_to_json(opensky_states):\n",
    "    \"\"\"returns a list of jsons\"\"\"\n",
    "    for state in opensky_states:\n",
    "        opensky_json = "
   ]
  },
  {
   "cell_type": "code",
   "execution_count": null,
   "metadata": {},
   "outputs": [],
   "source": [
    "producer.send()"
   ]
  }
 ],
 "metadata": {
  "kernelspec": {
   "display_name": "Python 3",
   "language": "python",
   "name": "python3"
  },
  "language_info": {
   "codemirror_mode": {
    "name": "ipython",
    "version": 3
   },
   "file_extension": ".py",
   "mimetype": "text/x-python",
   "name": "python",
   "nbconvert_exporter": "python",
   "pygments_lexer": "ipython3",
   "version": "3.6.6"
  }
 },
 "nbformat": 4,
 "nbformat_minor": 2
}
