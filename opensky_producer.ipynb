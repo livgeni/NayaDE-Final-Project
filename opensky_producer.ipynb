{
 "cells": [
  {
   "cell_type": "code",
   "execution_count": 116,
   "metadata": {},
   "outputs": [],
   "source": [
    "from opensky_api import OpenSkyApi\n",
    "from kafka import KafkaProducer\n",
    "import json\n",
    "from time import sleep\n",
    "import pyarrow as pa\n",
    "import os\n",
    "from datetime import datetime\n",
    "import shutil\n",
    "    \n",
    "# # Topics/Brokers\n",
    "topic_real_time_states = 'real-time-states'\n",
    "topic_raw_json = 'raw_json'\n",
    "topic_flat_json = 'flat_json'\n",
    "topic_brokers = ['localhost:9092']\n",
    "\n",
    "# hdfs config\n",
    "hdfs_host='localhost'\n",
    "hdfs_port=8020\n",
    "hdfs_user='hdfs'\n",
    "hdfs_driver='libhdfs'\n",
    "hdfs_archive_path = '/FinalProject/Archive'\n",
    "local_files_folder = os.path.abspath('/home/naya/tutorial/open-sky/tmp_storage')\n",
    "local_files_prefix = 'opensky_state_vectors_json'\n",
    "local_files_suffix = lambda : datetime.now().strftime(\"%Y-%M-%d_%H_%M_%S\")\n",
    "local_file_size_threshold = 100 #MB\n",
    "\n",
    "API = OpenSkyApi('livgeni', '1abc23')\n",
    "\n",
    "def open_sky_generator():\n",
    "    while True:\n",
    "        yield API.get_states()\n",
    "        sleep(10)\n"
   ]
  },
  {
   "cell_type": "raw",
   "metadata": {},
   "source": [
    "## states structure:\n",
    "\n",
    "OpenSkyStates : time (int) , states (list of StateVector)\n",
    "\n",
    "StateVector : \n",
    "\n",
    "icao24          : <class 'str'>\n",
    "callsign        : <class 'str'>\n",
    "origin_country  : <class 'str'>\n",
    "time_position   : <class 'int'>\n",
    "last_contact    : <class 'int'>\n",
    "longitude       : <class 'float'>\n",
    "latitude        : <class 'float'>\n",
    "baro_altitude   : <class 'float'>\n",
    "on_ground       : <class 'bool'>\n",
    "velocity        : <class 'float'>\n",
    "heading         : <class 'float'>\n",
    "vertical_rate   : <class 'float'>\n",
    "sensors         : <class 'NoneType'>\n",
    "geo_altitude    : <class 'float'>\n",
    "squawk          : <class 'str'>\n",
    "spi             : <class 'bool'>\n",
    "position_source : <class 'int'>\n"
   ]
  },
  {
   "cell_type": "code",
   "execution_count": 103,
   "metadata": {},
   "outputs": [],
   "source": [
    "import json\n",
    "\n",
    "RED_FIELDS = ['origin_country', 'sensors']\n",
    "YELLOW_FIELDS = ['time_position', 'heading', 'vertical_rate', 'spi']\n",
    "IGNORE_FIELDS = RED_FIELDS + YELLOW_FIELDS\n",
    "\n",
    "\n",
    "def opensky_to_dict(opensky_states):\n",
    "    \"\"\"returns a list of dictionaries\"\"\"\n",
    "    svdl = list()\n",
    "\n",
    "    for sv in opensky_states.states:\n",
    "        svd = dict(time = opensky_states.time)\n",
    "        for key in sv.keys:\n",
    "            if key not in IGNORE_FIELDS:\n",
    "                val = sv.__dict__[key]\n",
    "                svd[key] = val if type(val) != str else val.strip()\n",
    "        svdl += [svd]\n",
    "    return svdl\n",
    "        \n",
    "#     state_vector_json_list = json.dumps(svdl)\n",
    "#     return state_vector_json_list\n",
    "\n"
   ]
  },
  {
   "cell_type": "markdown",
   "metadata": {},
   "source": [
    "## Save to Archiving Folder in HDFS\n",
    "\n",
    "1. Append to a local file until reaching 100MB\n",
    "2. When reached - upload to HDFS using pyarrow and open a new file"
   ]
  },
  {
   "cell_type": "code",
   "execution_count": 117,
   "metadata": {},
   "outputs": [],
   "source": [
    "# init local and hdfs folders\n",
    "\n",
    "fs = pa.hdfs.connect(\n",
    "    host=hdfs_host, \n",
    "    port=hdfs_port, \n",
    "    user=hdfs_user, \n",
    "    kerb_ticket=None, \n",
    "    driver=hdfs_driver, \n",
    "    extra_conf=None)\n",
    "\n",
    "# Create local folder if not exists\n",
    "if os.path.exists(local_files_folder):\n",
    "    shutil.rmtree(local_files_folder)\n",
    "\n",
    "\n",
    "os.mkdir(local_files_folder)\n",
    "\n",
    "# create hdfs folder if not exist\n",
    "if not fs.exists(hdfs_archive_path):\n",
    "    fs.mkdir(f'hdfs://{hdfs_host}:{hdfs_port}{hdfs_archive_path}',create_parents=True)\n",
    "\n",
    "local_file_path = os.path.join\\\n",
    "        (local_files_folder, f'{local_files_prefix}_{local_files_suffix()}.json')\n",
    "    \n",
    "def append_data(jsn_str):\n",
    "    with open(local_file_path, 'a') as local_file:\n",
    "        local_file.write(jsn_str)\n",
    "    \n",
    "    if os.path.getsize(local_file_path)/1024/1024 >= local_file_size_threshold:\n",
    "        # upload to hdfs\n",
    "        \n",
    "        # delete the local file\n",
    "        os.remove(local_file_path)\n",
    "    \n",
    "    "
   ]
  },
  {
   "cell_type": "code",
   "execution_count": 118,
   "metadata": {},
   "outputs": [
    {
     "name": "stdout",
     "output_type": "stream",
     "text": [
      "file size: 2166770\n",
      "2166770\n",
      "2.0663928985595703\n"
     ]
    },
    {
     "ename": "KeyboardInterrupt",
     "evalue": "",
     "output_type": "error",
     "traceback": [
      "\u001b[0;31m---------------------------------------------------------------------------\u001b[0m",
      "\u001b[0;31mKeyboardInterrupt\u001b[0m                         Traceback (most recent call last)",
      "\u001b[0;32m<ipython-input-118-bd096b59ef68>\u001b[0m in \u001b[0;36m<module>\u001b[0;34m\u001b[0m\n\u001b[1;32m      1\u001b[0m \u001b[0mproducer\u001b[0m \u001b[0;34m=\u001b[0m \u001b[0mKafkaProducer\u001b[0m\u001b[0;34m(\u001b[0m\u001b[0mbootstrap_servers\u001b[0m\u001b[0;34m=\u001b[0m\u001b[0mbrokers\u001b[0m\u001b[0;34m)\u001b[0m\u001b[0;34m\u001b[0m\u001b[0m\n\u001b[1;32m      2\u001b[0m \u001b[0;34m\u001b[0m\u001b[0m\n\u001b[0;32m----> 3\u001b[0;31m \u001b[0;32mfor\u001b[0m \u001b[0mstates\u001b[0m \u001b[0;32min\u001b[0m \u001b[0mopen_sky_generator\u001b[0m\u001b[0;34m(\u001b[0m\u001b[0;34m)\u001b[0m\u001b[0;34m:\u001b[0m\u001b[0;34m\u001b[0m\u001b[0m\n\u001b[0m\u001b[1;32m      4\u001b[0m     \u001b[0mmessage_json\u001b[0m \u001b[0;34m=\u001b[0m \u001b[0mjson\u001b[0m\u001b[0;34m.\u001b[0m\u001b[0mdumps\u001b[0m\u001b[0;34m(\u001b[0m\u001b[0mopensky_to_dict\u001b[0m\u001b[0;34m(\u001b[0m\u001b[0mstates\u001b[0m\u001b[0;34m)\u001b[0m\u001b[0;34m)\u001b[0m\u001b[0;34m\u001b[0m\u001b[0m\n\u001b[1;32m      5\u001b[0m     \u001b[0mappend_data\u001b[0m\u001b[0;34m(\u001b[0m\u001b[0mmessage_json\u001b[0m\u001b[0;34m)\u001b[0m\u001b[0;34m\u001b[0m\u001b[0m\n",
      "\u001b[0;32m<ipython-input-116-12523587040d>\u001b[0m in \u001b[0;36mopen_sky_generator\u001b[0;34m()\u001b[0m\n\u001b[1;32m     30\u001b[0m     \u001b[0;32mwhile\u001b[0m \u001b[0;32mTrue\u001b[0m\u001b[0;34m:\u001b[0m\u001b[0;34m\u001b[0m\u001b[0m\n\u001b[1;32m     31\u001b[0m         \u001b[0;32myield\u001b[0m \u001b[0mAPI\u001b[0m\u001b[0;34m.\u001b[0m\u001b[0mget_states\u001b[0m\u001b[0;34m(\u001b[0m\u001b[0;34m)\u001b[0m\u001b[0;34m\u001b[0m\u001b[0m\n\u001b[0;32m---> 32\u001b[0;31m         \u001b[0msleep\u001b[0m\u001b[0;34m(\u001b[0m\u001b[0;36m10\u001b[0m\u001b[0;34m)\u001b[0m\u001b[0;34m\u001b[0m\u001b[0m\n\u001b[0m",
      "\u001b[0;31mKeyboardInterrupt\u001b[0m: "
     ]
    }
   ],
   "source": [
    "producer = KafkaProducer(bootstrap_servers=brokers)\n",
    "\n",
    "for states in open_sky_generator():\n",
    "    message_json = json.dumps(opensky_to_dict(states))\n",
    "    append_data(message_json)\n",
    "#    producer.send(topic_raw_json, value = message_json[:900000].encode('utf-8'))\n",
    "#     producer.send(topic_raw_json, b'message')\n",
    "    print(len(message_json.encode()))\n",
    "    print(len(message_json.encode('utf-8'))/1024/1024)"
   ]
  },
  {
   "cell_type": "code",
   "execution_count": 87,
   "metadata": {},
   "outputs": [
    {
     "data": {
      "text/plain": [
       "'/home/naya/tutorial/open-sky/tmp_storage/opensky_state_vectors_json_2019-08-12_21_08_48'"
      ]
     },
     "execution_count": 87,
     "metadata": {},
     "output_type": "execute_result"
    }
   ],
   "source": [
    "local_file_path = os.path.join(local_files_folder, local_files_prefix+'_'+local_files_suffix())\n",
    "local_file_path"
   ]
  },
  {
   "cell_type": "code",
   "execution_count": 101,
   "metadata": {},
   "outputs": [],
   "source": [
    "local_file_path = os.path.join\\\n",
    "(local_files_folder, f'{local_files_prefix}_{local_files_suffix()}')"
   ]
  },
  {
   "cell_type": "code",
   "execution_count": null,
   "metadata": {},
   "outputs": [],
   "source": []
  }
 ],
 "metadata": {
  "kernelspec": {
   "display_name": "Python 3",
   "language": "python",
   "name": "python3"
  },
  "language_info": {
   "codemirror_mode": {
    "name": "ipython",
    "version": 3
   },
   "file_extension": ".py",
   "mimetype": "text/x-python",
   "name": "python",
   "nbconvert_exporter": "python",
   "pygments_lexer": "ipython3",
   "version": "3.6.6"
  }
 },
 "nbformat": 4,
 "nbformat_minor": 2
}
