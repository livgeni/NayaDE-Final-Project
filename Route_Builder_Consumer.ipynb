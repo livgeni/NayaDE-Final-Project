{
 "cells": [
  {
   "cell_type": "markdown",
   "metadata": {},
   "source": [
    "## Description\n",
    "\n",
    "1. Consume from kafka as structured stream (icao24, lat, lon, alt\n",
    "2. For each micro batch, perform route build loop:\n",
    "    a. Add "
   ]
  },
  {
   "cell_type": "code",
   "execution_count": 1,
   "metadata": {},
   "outputs": [
    {
     "name": "stdout",
     "output_type": "stream",
     "text": [
      "Collecting geopandas\n",
      "\u001b[?25l  Downloading https://files.pythonhosted.org/packages/5b/0c/e6c99e561b03482220f00443f610ccf4dce9b50f4b1093d735f93c6fc8c6/geopandas-0.6.2-py2.py3-none-any.whl (919kB)\n",
      "\u001b[K     |████████████████████████████████| 921kB 511kB/s eta 0:00:01\n",
      "\u001b[?25hCollecting shapely\n",
      "\u001b[?25l  Downloading https://files.pythonhosted.org/packages/38/b6/b53f19062afd49bb5abd049aeed36f13bf8d57ef8f3fa07a5203531a0252/Shapely-1.6.4.post2-cp36-cp36m-manylinux1_x86_64.whl (1.5MB)\n",
      "\u001b[K     |████████████████████████████████| 1.5MB 538kB/s eta 0:00:01\n",
      "\u001b[?25hCollecting fiona\n",
      "\u001b[?25l  Downloading https://files.pythonhosted.org/packages/50/f7/9899f8a9a2e38601472fe1079ce5088f58833221c8b8507d8b5eafd5404a/Fiona-1.8.13-cp36-cp36m-manylinux1_x86_64.whl (11.8MB)\n",
      "\u001b[K     |████████████████████████████████| 11.8MB 585kB/s eta 0:00:01\n",
      "\u001b[?25hRequirement already satisfied: pandas>=0.23.0 in /home/naya/anaconda3/lib/python3.6/site-packages (from geopandas) (0.24.2)\n",
      "Collecting pyproj\n",
      "\u001b[?25l  Downloading https://files.pythonhosted.org/packages/d6/70/eedc98cd52b86de24a1589c762612a98bea26cde649ffdd60c1db396cce8/pyproj-2.4.2.post1-cp36-cp36m-manylinux2010_x86_64.whl (10.1MB)\n",
      "\u001b[K     |████████████████████████████████| 10.1MB 401kB/s eta 0:00:01\n",
      "\u001b[?25hRequirement already satisfied: six>=1.7 in /home/naya/anaconda3/lib/python3.6/site-packages (from fiona->geopandas) (1.12.0)\n",
      "Collecting munch\n",
      "  Downloading https://files.pythonhosted.org/packages/cc/ab/85d8da5c9a45e072301beb37ad7f833cd344e04c817d97e0cc75681d248f/munch-2.5.0-py2.py3-none-any.whl\n",
      "Requirement already satisfied: attrs>=17 in /home/naya/anaconda3/lib/python3.6/site-packages (from fiona->geopandas) (19.1.0)\n",
      "Collecting click-plugins>=1.0\n",
      "  Downloading https://files.pythonhosted.org/packages/e9/da/824b92d9942f4e472702488857914bdd50f73021efea15b4cad9aca8ecef/click_plugins-1.1.1-py2.py3-none-any.whl\n",
      "Collecting cligj>=0.5\n",
      "  Downloading https://files.pythonhosted.org/packages/e4/be/30a58b4b0733850280d01f8bd132591b4668ed5c7046761098d665ac2174/cligj-0.5.0-py3-none-any.whl\n",
      "Requirement already satisfied: click<8,>=4.0 in /home/naya/anaconda3/lib/python3.6/site-packages (from fiona->geopandas) (7.0)\n",
      "Requirement already satisfied: python-dateutil>=2.5.0 in /home/naya/anaconda3/lib/python3.6/site-packages (from pandas>=0.23.0->geopandas) (2.8.0)\n",
      "Requirement already satisfied: numpy>=1.12.0 in /home/naya/anaconda3/lib/python3.6/site-packages (from pandas>=0.23.0->geopandas) (1.16.4)\n",
      "Requirement already satisfied: pytz>=2011k in /home/naya/anaconda3/lib/python3.6/site-packages (from pandas>=0.23.0->geopandas) (2018.9)\n",
      "Installing collected packages: shapely, munch, click-plugins, cligj, fiona, pyproj, geopandas\n",
      "Successfully installed click-plugins-1.1.1 cligj-0.5.0 fiona-1.8.13 geopandas-0.6.2 munch-2.5.0 pyproj-2.4.2.post1 shapely-1.6.4.post2\n"
     ]
    }
   ],
   "source": [
    "!pip install geopandas"
   ]
  },
  {
   "cell_type": "code",
   "execution_count": 40,
   "metadata": {},
   "outputs": [
    {
     "name": "stderr",
     "output_type": "stream",
     "text": [
      "/home/naya/anaconda3/lib/python3.6/site-packages/pyarrow/pandas_compat.py:752: FutureWarning: .labels was deprecated in version 0.24.0. Use .codes instead.\n",
      "  labels, = index.labels\n"
     ]
    }
   ],
   "source": [
    "import geopandas as gpd\n",
    "import pandas as pd\n",
    "import pyarrow as pa\n",
    "\n",
    "fs = pa.hdfs.connect(\n",
    "    host='localhost',\n",
    "    port=8020, \n",
    "    user='hdfs', \n",
    "    kerb_ticket=None, \n",
    "    driver='libhdfs', \n",
    "    extra_conf=None)\n",
    "\n",
    "df = fs.read_parquet('/FinalProject/Parquet/States_Vectors/part-00000-0015f7ee-31ad-4c39-a4e4-8af5863ca5a4-c000.snappy.parquet').to_pandas().set_index('icao24')\n",
    "\n",
    "# pd.read_parquet('hdfs://loclahost:8020/FinalProject/Parquet/States_Vectors', engine=\"pyarrow\",)\n"
   ]
  },
  {
   "cell_type": "code",
   "execution_count": null,
   "metadata": {},
   "outputs": [],
   "source": []
  },
  {
   "cell_type": "code",
   "execution_count": 41,
   "metadata": {},
   "outputs": [
    {
     "data": {
      "text/plain": [
       "time               2019-12-26 00:07:05\n",
       "callsign                       LPE2150\n",
       "last_contact                1577318822\n",
       "longitude                     -71.9935\n",
       "latitude                      -16.3634\n",
       "baro_altitude                     5334\n",
       "on_ground                            0\n",
       "velocity                        175.79\n",
       "geo_altitude                   5684.52\n",
       "squawk                            2604\n",
       "position_source                      0\n",
       "Name: e8027c, dtype: object"
      ]
     },
     "execution_count": 41,
     "metadata": {},
     "output_type": "execute_result"
    }
   ],
   "source": [
    "df.loc['e8027c']"
   ]
  },
  {
   "cell_type": "code",
   "execution_count": null,
   "metadata": {},
   "outputs": [],
   "source": []
  }
 ],
 "metadata": {
  "kernelspec": {
   "display_name": "Python 3",
   "language": "python",
   "name": "python3"
  },
  "language_info": {
   "codemirror_mode": {
    "name": "ipython",
    "version": 3
   },
   "file_extension": ".py",
   "mimetype": "text/x-python",
   "name": "python",
   "nbconvert_exporter": "python",
   "pygments_lexer": "ipython3",
   "version": "3.6.6"
  }
 },
 "nbformat": 4,
 "nbformat_minor": 2
}
