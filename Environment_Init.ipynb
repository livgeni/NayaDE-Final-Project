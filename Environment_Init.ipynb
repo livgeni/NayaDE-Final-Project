{
 "cells": [
  {
   "cell_type": "markdown",
   "metadata": {},
   "source": [
    "## To support large messages with kafka:\n",
    "\n",
    "You need to adjust three (or four) properties:\n",
    "\n",
    "Consumer side:fetch.message.max.bytes - this will determine the largest size of a message that can be fetched by the consumer.<br>\n",
    "Broker side: replica.fetch.max.bytes - this will allow for the replicas in the brokers to send messages within the cluster and make sure the messages are replicated correctly. If this is too small, then the message will never be replicated, and therefore, the consumer will never see the message because the message will never be committed (fully replicated).\n",
    "Broker side: message.max.bytes - this is the largest size of the message that can be received by the broker from a producer.\n",
    "Broker side (per topic): max.message.bytes - this is the largest size of the message the broker will allow to be appended to the topic. This size is validated pre-compression. (Defaults to broker's message.max.bytes.)"
   ]
  },
  {
   "cell_type": "markdown",
   "metadata": {},
   "source": [
    "## states structure:\n",
    "\n",
    "OpenSkyStates : time (long) , states (list of StateVector)\n",
    "\n",
    "StateVector : \n",
    "<table align=\"left\">\n",
    " <tr><td>icao24         </td><td>str</td></tr>\n",
    " <tr><td>origin_country </td><td>str</td></tr>\n",
    " <tr><td>time_position  </td><td>timestamp</td></tr>\n",
    " <tr><td>last_contact   </td><td>timestamp</td></tr>\n",
    " <tr><td>longitude      </td><td>float</td></tr>\n",
    " <tr><td>latitude       </td><td>float</td></tr>\n",
    " <tr><td>baro_altitude  </td><td>float</td></tr>\n",
    " <tr><td>on_ground      </td><td>bool</td></tr>\n",
    " <tr><td>velocity       </td><td>float</td></tr>\n",
    " <tr><td>heading        </td><td>float</td></tr>\n",
    " <tr><td>vertical_rate  </td><td>float</td></tr>\n",
    " <tr><td>sensors        </td><td>NoneType</td></tr>\n",
    " <tr><td>geo_altitude   </td><td>float</td></tr>\n",
    " <tr><td>squawk         </td><td>str</td></tr>\n",
    " <tr><td>spi            </td><td>bool</td></tr>\n",
    " <tr><td>position_source</td><td>int</td></tr>  \n",
    "</table>\n",
    "   "
   ]
  },
  {
   "cell_type": "markdown",
   "metadata": {},
   "source": [
    "## What fields used in json for state_vector entity:\n",
    "<table align=\"left\">\n",
    "  <tr><td>\"time\", T.TimestampType()</td></tr>\n",
    "  <tr><td>\"icao24\", T.StringType()</td></tr>\n",
    "  <tr><td>\"callsign\", T.StringType()</td></tr>\n",
    "  <tr><td>\"last_contact\", T.TimestampType()</td></tr>\n",
    "  <tr><td>\"longitude\", T.FloatType()</td></tr>\n",
    "  <tr><td>\"latitude\", T.FloatType()</td></tr>\n",
    "  <tr><td>\"baro_altitude\", T.FloatType()</td></tr>\n",
    "  <tr><td>\"on_ground\", T.IntegerType()</td></tr>\n",
    "  <tr><td>\"velocity\", T.FloatType()</td></tr>\n",
    "  <tr><td>\"geo_altitude\", T.FloatType()</td></tr>\n",
    "  <tr><td>\"squawk\", T.StringType()</td></tr>\n",
    "  <tr><td>\"position_source\", T.IntegerType())</td></tr>\n",
    "</table>"
   ]
  },
  {
   "cell_type": "markdown",
   "metadata": {},
   "source": [
    "## Hourly, Daily and Weekly tables:\n",
    "\n",
    "CREATE EXTERNAL TABLE opensky_network.states_last_hour\n",
    "(time TIMESTAMP, icao24 STRING, callsign STRING, last_contact TIMESTAMP,\n",
    "longitude FLOAT, latitude FLOAT, baro_altitude FLOAT, on_ground INT,   \n",
    "velocity FLOAT, geo_altitude FLOAT, squawk STRING, position_source INT)\n",
    "Partitioned By (date_minute string)\n",
    "STORED AS PARQUET \n",
    "LOCATION '/user/naya/FinalProject/last_hour';\n",
    "\n",
    "\n",
    "CREATE EXTERNAL TABLE opensky_network.states_last_day\n",
    "(time TIMESTAMP, icao24 STRING, callsign STRING, last_contact TIMESTAMP,\n",
    "longitude FLOAT, latitude FLOAT, baro_altitude FLOAT, on_ground INT,   \n",
    "velocity FLOAT, geo_altitude FLOAT, squawk STRING, position_source INT)\n",
    "Partitioned By (date_hour string)\n",
    "STORED AS PARQUET \n",
    "LOCATION '/user/naya/FinalProject/last_day';\n",
    "\n",
    "\n",
    "CREATE EXTERNAL TABLE opensky_network.states_last_week\n",
    "(time TIMESTAMP, icao24 STRING, callsign STRING, last_contact TIMESTAMP,\n",
    "longitude FLOAT, latitude FLOAT, baro_altitude FLOAT, on_ground INT,   \n",
    "velocity FLOAT, geo_altitude FLOAT, squawk STRING, position_source INT)\n",
    "Partitioned By (date_day string)\n",
    "STORED AS PARQUET \n",
    "LOCATION '/user/naya/FinalProject/last_week';"
   ]
  },
  {
   "cell_type": "markdown",
   "metadata": {},
   "source": [
    "## HDFS settings\n",
    "See storage consumption :\n",
    "\n",
    "    <i>sudo -u hdfs hdfs dfs -du -h /FinalProject</i>\n",
    "    \n",
    "Lower replication level (to save space):\n",
    "\n",
    "    <i>sudo -u hdfs hdfs dfs -setrep -R 1 /FinalProject/Archive</i>\n",
    "    \n"
   ]
  },
  {
   "cell_type": "markdown",
   "metadata": {},
   "source": [
    "## More interesting stuff\n",
    "\n",
    "<ol>\n",
    "    <li>Spark Structured Streaming and Bool values:  <br>      \n",
    "        in python bool is True / False, in Spark Types, boolean is 0 / 1 </li>\n",
    "    <li>Saving raw JSON in hdfs requires space more than 10 times of same data saved in paruqet format </li>\n",
    "    <li>Supporting messages in kafka larger than 1MB - see setion above \"To support large messages with kafka</li>\n",
    "    <li>It probably would be smarter to send each state vector sas a seperate message and not all together in the list each cycle. Because later when it is turned into a dataframe it's harder to turn it back into array of json's again and send the entire batch</li>\n",
    "</ol>"
   ]
  }
 ],
 "metadata": {
  "kernelspec": {
   "display_name": "Python 3",
   "language": "python",
   "name": "python3"
  },
  "language_info": {
   "codemirror_mode": {
    "name": "ipython",
    "version": 3
   },
   "file_extension": ".py",
   "mimetype": "text/x-python",
   "name": "python",
   "nbconvert_exporter": "python",
   "pygments_lexer": "ipython3",
   "version": "3.6.6"
  }
 },
 "nbformat": 4,
 "nbformat_minor": 2
}
